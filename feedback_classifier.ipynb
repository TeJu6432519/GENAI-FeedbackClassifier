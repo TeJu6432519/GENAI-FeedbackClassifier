{
  "metadata": {
    "kernelspec": {
      "name": "python3",
      "display_name": "Python 3.11",
      "language": "python"
    },
    "language_info": {
      "name": "python",
      "version": "3.11.13",
      "mimetype": "text/x-python",
      "codemirror_mode": {
        "name": "ipython",
        "version": 3
      },
      "pygments_lexer": "ipython3",
      "nbconvert_exporter": "python",
      "file_extension": ".py"
    },
    "colab": {
      "provenance": [],
      "include_colab_link": true
    }
  },
  "nbformat_minor": 0,
  "nbformat": 4,
  "cells": [
    {
      "cell_type": "markdown",
      "metadata": {
        "id": "view-in-github",
        "colab_type": "text"
      },
      "source": [
        "<a href=\"https://colab.research.google.com/github/TeJu6432519/GENAI-FeedbackClassifier/blob/main/feedback_classifier.ipynb\" target=\"_parent\"><img src=\"https://colab.research.google.com/assets/colab-badge.svg\" alt=\"Open In Colab\"/></a>"
      ]
    },
    {
      "cell_type": "code",
      "source": [
        "\n",
        "!pip install ibm-watsonx-ai\n",
        "from ibm_watsonx_ai import APIClient, Credentials, FoundationsApi\n",
        "import pandas as pd\n"
      ],
      "metadata": {
        "id": "320b84e3-9994-4e12-8a8e-9cdc418145cc",
        "scrolled": true,
        "outputId": "8f5c25c1-4b2f-43d0-f53a-5eb5f98dcc1a"
      },
      "outputs": [
        {
          "name": "stdout",
          "text": "Requirement already satisfied: ibm-watsonx-ai in /opt/conda/envs/Python-RT24.1/lib/python3.11/site-packages (1.3.26)\nRequirement already satisfied: requests in /opt/conda/envs/Python-RT24.1/lib/python3.11/site-packages (from ibm-watsonx-ai) (2.32.2)\nRequirement already satisfied: httpx<0.29,>=0.27 in /opt/conda/envs/Python-RT24.1/lib/python3.11/site-packages (from ibm-watsonx-ai) (0.28.1)\nRequirement already satisfied: urllib3 in /opt/conda/envs/Python-RT24.1/lib/python3.11/site-packages (from ibm-watsonx-ai) (1.26.19)\nRequirement already satisfied: pandas<2.3.0,>=0.24.2 in /opt/conda/envs/Python-RT24.1/lib/python3.11/site-packages (from ibm-watsonx-ai) (2.1.4)\nRequirement already satisfied: certifi in /opt/conda/envs/Python-RT24.1/lib/python3.11/site-packages (from ibm-watsonx-ai) (2025.4.26)\nRequirement already satisfied: lomond in /opt/conda/envs/Python-RT24.1/lib/python3.11/site-packages (from ibm-watsonx-ai) (0.3.3)\nRequirement already satisfied: tabulate in /opt/conda/envs/Python-RT24.1/lib/python3.11/site-packages (from ibm-watsonx-ai) (0.8.10)\nRequirement already satisfied: packaging in /opt/conda/envs/Python-RT24.1/lib/python3.11/site-packages (from ibm-watsonx-ai) (23.2)\nRequirement already satisfied: ibm-cos-sdk<2.15.0,>=2.12.0 in /opt/conda/envs/Python-RT24.1/lib/python3.11/site-packages (from ibm-watsonx-ai) (2.13.4)\nRequirement already satisfied: anyio in /opt/conda/envs/Python-RT24.1/lib/python3.11/site-packages (from httpx<0.29,>=0.27->ibm-watsonx-ai) (3.5.0)\nRequirement already satisfied: httpcore==1.* in /opt/conda/envs/Python-RT24.1/lib/python3.11/site-packages (from httpx<0.29,>=0.27->ibm-watsonx-ai) (1.0.9)\nRequirement already satisfied: idna in /opt/conda/envs/Python-RT24.1/lib/python3.11/site-packages (from httpx<0.29,>=0.27->ibm-watsonx-ai) (3.7)\nRequirement already satisfied: h11>=0.16 in /opt/conda/envs/Python-RT24.1/lib/python3.11/site-packages (from httpcore==1.*->httpx<0.29,>=0.27->ibm-watsonx-ai) (0.16.0)\nRequirement already satisfied: ibm-cos-sdk-core==2.13.4 in /opt/conda/envs/Python-RT24.1/lib/python3.11/site-packages (from ibm-cos-sdk<2.15.0,>=2.12.0->ibm-watsonx-ai) (2.13.4)\nRequirement already satisfied: ibm-cos-sdk-s3transfer==2.13.4 in /opt/conda/envs/Python-RT24.1/lib/python3.11/site-packages (from ibm-cos-sdk<2.15.0,>=2.12.0->ibm-watsonx-ai) (2.13.4)\nRequirement already satisfied: jmespath<=1.0.1,>=0.10.0 in /opt/conda/envs/Python-RT24.1/lib/python3.11/site-packages (from ibm-cos-sdk<2.15.0,>=2.12.0->ibm-watsonx-ai) (1.0.1)\nRequirement already satisfied: python-dateutil<3.0.0,>=2.8.2 in /opt/conda/envs/Python-RT24.1/lib/python3.11/site-packages (from ibm-cos-sdk-core==2.13.4->ibm-cos-sdk<2.15.0,>=2.12.0->ibm-watsonx-ai) (2.8.2)\nRequirement already satisfied: numpy<2,>=1.23.2 in /opt/conda/envs/Python-RT24.1/lib/python3.11/site-packages (from pandas<2.3.0,>=0.24.2->ibm-watsonx-ai) (1.26.4)\nRequirement already satisfied: pytz>=2020.1 in /opt/conda/envs/Python-RT24.1/lib/python3.11/site-packages (from pandas<2.3.0,>=0.24.2->ibm-watsonx-ai) (2024.1)\nRequirement already satisfied: tzdata>=2022.1 in /opt/conda/envs/Python-RT24.1/lib/python3.11/site-packages (from pandas<2.3.0,>=0.24.2->ibm-watsonx-ai) (2023.3)\nRequirement already satisfied: charset-normalizer<4,>=2 in /opt/conda/envs/Python-RT24.1/lib/python3.11/site-packages (from requests->ibm-watsonx-ai) (2.0.4)\nRequirement already satisfied: six>=1.10.0 in /opt/conda/envs/Python-RT24.1/lib/python3.11/site-packages (from lomond->ibm-watsonx-ai) (1.16.0)\nRequirement already satisfied: sniffio>=1.1 in /opt/conda/envs/Python-RT24.1/lib/python3.11/site-packages (from anyio->httpx<0.29,>=0.27->ibm-watsonx-ai) (1.3.0)\n",
          "output_type": "stream"
        },
        {
          "traceback": [
            "\u001b[0;31m---------------------------------------------------------------------------\u001b[0m",
            "\u001b[0;31mImportError\u001b[0m                               Traceback (most recent call last)",
            "Cell \u001b[0;32mIn[1], line 2\u001b[0m\n\u001b[1;32m      1\u001b[0m get_ipython()\u001b[38;5;241m.\u001b[39msystem(\u001b[38;5;124m'\u001b[39m\u001b[38;5;124mpip install ibm-watsonx-ai\u001b[39m\u001b[38;5;124m'\u001b[39m)\n\u001b[0;32m----> 2\u001b[0m \u001b[38;5;28;01mfrom\u001b[39;00m \u001b[38;5;21;01mibm_watsonx_ai\u001b[39;00m \u001b[38;5;28;01mimport\u001b[39;00m APIClient, Credentials, FoundationsApi\n\u001b[1;32m      3\u001b[0m \u001b[38;5;28;01mimport\u001b[39;00m \u001b[38;5;21;01mpandas\u001b[39;00m \u001b[38;5;28;01mas\u001b[39;00m \u001b[38;5;21;01mpd\u001b[39;00m\n",
            "\u001b[0;31mImportError\u001b[0m: cannot import name 'FoundationsApi' from 'ibm_watsonx_ai' (/opt/conda/envs/Python-RT24.1/lib/python3.11/site-packages/ibm_watsonx_ai/__init__.py)"
          ],
          "ename": "ImportError",
          "evalue": "cannot import name 'FoundationsApi' from 'ibm_watsonx_ai' (/opt/conda/envs/Python-RT24.1/lib/python3.11/site-packages/ibm_watsonx_ai/__init__.py)",
          "output_type": "error"
        }
      ],
      "execution_count": null
    },
    {
      "cell_type": "code",
      "source": [
        "# Install IBM watsonx.ai SDK\n",
        "!pip install ibm-watsonx-ai\n",
        "\n",
        "# Import necessary packages\n",
        "from ibm_watsonx_ai import APIClient, Credentials, FoundationsApi\n",
        "import pandas as pd\n"
      ],
      "metadata": {
        "id": "88e9b775-8518-47d4-81b8-352f9bbdbf13",
        "outputId": "b0ecc2b7-9d7b-4333-8c57-596978f9e20f"
      },
      "outputs": [
        {
          "name": "stdout",
          "text": "Requirement already satisfied: ibm-watsonx-ai in /opt/conda/envs/Python-RT24.1/lib/python3.11/site-packages (1.3.26)\nRequirement already satisfied: requests in /opt/conda/envs/Python-RT24.1/lib/python3.11/site-packages (from ibm-watsonx-ai) (2.32.2)\nRequirement already satisfied: httpx<0.29,>=0.27 in /opt/conda/envs/Python-RT24.1/lib/python3.11/site-packages (from ibm-watsonx-ai) (0.28.1)\nRequirement already satisfied: urllib3 in /opt/conda/envs/Python-RT24.1/lib/python3.11/site-packages (from ibm-watsonx-ai) (1.26.19)\nRequirement already satisfied: pandas<2.3.0,>=0.24.2 in /opt/conda/envs/Python-RT24.1/lib/python3.11/site-packages (from ibm-watsonx-ai) (2.1.4)\nRequirement already satisfied: certifi in /opt/conda/envs/Python-RT24.1/lib/python3.11/site-packages (from ibm-watsonx-ai) (2025.4.26)\nRequirement already satisfied: lomond in /opt/conda/envs/Python-RT24.1/lib/python3.11/site-packages (from ibm-watsonx-ai) (0.3.3)\nRequirement already satisfied: tabulate in /opt/conda/envs/Python-RT24.1/lib/python3.11/site-packages (from ibm-watsonx-ai) (0.8.10)\nRequirement already satisfied: packaging in /opt/conda/envs/Python-RT24.1/lib/python3.11/site-packages (from ibm-watsonx-ai) (23.2)\nRequirement already satisfied: ibm-cos-sdk<2.15.0,>=2.12.0 in /opt/conda/envs/Python-RT24.1/lib/python3.11/site-packages (from ibm-watsonx-ai) (2.13.4)\nRequirement already satisfied: anyio in /opt/conda/envs/Python-RT24.1/lib/python3.11/site-packages (from httpx<0.29,>=0.27->ibm-watsonx-ai) (3.5.0)\nRequirement already satisfied: httpcore==1.* in /opt/conda/envs/Python-RT24.1/lib/python3.11/site-packages (from httpx<0.29,>=0.27->ibm-watsonx-ai) (1.0.9)\nRequirement already satisfied: idna in /opt/conda/envs/Python-RT24.1/lib/python3.11/site-packages (from httpx<0.29,>=0.27->ibm-watsonx-ai) (3.7)\nRequirement already satisfied: h11>=0.16 in /opt/conda/envs/Python-RT24.1/lib/python3.11/site-packages (from httpcore==1.*->httpx<0.29,>=0.27->ibm-watsonx-ai) (0.16.0)\nRequirement already satisfied: ibm-cos-sdk-core==2.13.4 in /opt/conda/envs/Python-RT24.1/lib/python3.11/site-packages (from ibm-cos-sdk<2.15.0,>=2.12.0->ibm-watsonx-ai) (2.13.4)\nRequirement already satisfied: ibm-cos-sdk-s3transfer==2.13.4 in /opt/conda/envs/Python-RT24.1/lib/python3.11/site-packages (from ibm-cos-sdk<2.15.0,>=2.12.0->ibm-watsonx-ai) (2.13.4)\nRequirement already satisfied: jmespath<=1.0.1,>=0.10.0 in /opt/conda/envs/Python-RT24.1/lib/python3.11/site-packages (from ibm-cos-sdk<2.15.0,>=2.12.0->ibm-watsonx-ai) (1.0.1)\nRequirement already satisfied: python-dateutil<3.0.0,>=2.8.2 in /opt/conda/envs/Python-RT24.1/lib/python3.11/site-packages (from ibm-cos-sdk-core==2.13.4->ibm-cos-sdk<2.15.0,>=2.12.0->ibm-watsonx-ai) (2.8.2)\nRequirement already satisfied: numpy<2,>=1.23.2 in /opt/conda/envs/Python-RT24.1/lib/python3.11/site-packages (from pandas<2.3.0,>=0.24.2->ibm-watsonx-ai) (1.26.4)\nRequirement already satisfied: pytz>=2020.1 in /opt/conda/envs/Python-RT24.1/lib/python3.11/site-packages (from pandas<2.3.0,>=0.24.2->ibm-watsonx-ai) (2024.1)\nRequirement already satisfied: tzdata>=2022.1 in /opt/conda/envs/Python-RT24.1/lib/python3.11/site-packages (from pandas<2.3.0,>=0.24.2->ibm-watsonx-ai) (2023.3)\nRequirement already satisfied: charset-normalizer<4,>=2 in /opt/conda/envs/Python-RT24.1/lib/python3.11/site-packages (from requests->ibm-watsonx-ai) (2.0.4)\nRequirement already satisfied: six>=1.10.0 in /opt/conda/envs/Python-RT24.1/lib/python3.11/site-packages (from lomond->ibm-watsonx-ai) (1.16.0)\nRequirement already satisfied: sniffio>=1.1 in /opt/conda/envs/Python-RT24.1/lib/python3.11/site-packages (from anyio->httpx<0.29,>=0.27->ibm-watsonx-ai) (1.3.0)\n",
          "output_type": "stream"
        },
        {
          "traceback": [
            "\u001b[0;31m---------------------------------------------------------------------------\u001b[0m",
            "\u001b[0;31mImportError\u001b[0m                               Traceback (most recent call last)",
            "Cell \u001b[0;32mIn[2], line 5\u001b[0m\n\u001b[1;32m      2\u001b[0m get_ipython()\u001b[38;5;241m.\u001b[39msystem(\u001b[38;5;124m'\u001b[39m\u001b[38;5;124mpip install ibm-watsonx-ai\u001b[39m\u001b[38;5;124m'\u001b[39m)\n\u001b[1;32m      4\u001b[0m \u001b[38;5;66;03m# Import necessary packages\u001b[39;00m\n\u001b[0;32m----> 5\u001b[0m \u001b[38;5;28;01mfrom\u001b[39;00m \u001b[38;5;21;01mibm_watsonx_ai\u001b[39;00m \u001b[38;5;28;01mimport\u001b[39;00m APIClient, Credentials, FoundationsApi\n\u001b[1;32m      6\u001b[0m \u001b[38;5;28;01mimport\u001b[39;00m \u001b[38;5;21;01mpandas\u001b[39;00m \u001b[38;5;28;01mas\u001b[39;00m \u001b[38;5;21;01mpd\u001b[39;00m\n",
            "\u001b[0;31mImportError\u001b[0m: cannot import name 'FoundationsApi' from 'ibm_watsonx_ai' (/opt/conda/envs/Python-RT24.1/lib/python3.11/site-packages/ibm_watsonx_ai/__init__.py)"
          ],
          "ename": "ImportError",
          "evalue": "cannot import name 'FoundationsApi' from 'ibm_watsonx_ai' (/opt/conda/envs/Python-RT24.1/lib/python3.11/site-packages/ibm_watsonx_ai/__init__.py)",
          "output_type": "error"
        }
      ],
      "execution_count": null
    },
    {
      "cell_type": "code",
      "source": [
        "from ibm_watsonx_ai import Credentials, APIClient\n",
        "\n",
        "creds = Credentials(\n",
        "    url=\"https://us-south.ml.cloud.ibm.com\",    # usually this is the right one\n",
        "    api_key=\"MN_n79Cu-RMdftbqEPCQ_8gEqX09e4ZaY442Hsp7xWqJ\"\n",
        "\n",
        ")\n",
        "\n",
        "client = APIClient(credentials=creds)\n"
      ],
      "metadata": {
        "id": "c81887bf-90a7-4d70-bd82-c5da3fc116d6"
      },
      "outputs": [],
      "execution_count": null
    },
    {
      "cell_type": "code",
      "source": [
        "import os\n",
        "\n",
        "# Check common Watson Studio data paths\n",
        "search_dirs = [\".\", \"/home/wsuser\", \"/project_data\", \"/resources\", \"/opt/app-root\"]\n",
        "\n",
        "for folder in search_dirs:\n",
        "    print(f\"\\nSearching in: {folder}\")\n",
        "    for root, dirs, files in os.walk(folder):\n",
        "        for name in files:\n",
        "            if \"feedback\" in name.lower() and name.endswith(\".csv\"):\n",
        "                print(\"Found:\", os.path.join(root, name))\n"
      ],
      "metadata": {
        "id": "0a144b9b-55bc-49f8-87b7-c17f28af90a0",
        "outputId": "37a0ed7b-bc36-4c2f-9880-d45e90677a70"
      },
      "outputs": [
        {
          "name": "stdout",
          "text": "\nSearching in: .\nFound: ./classified_feedback.csv\n\nSearching in: /home/wsuser\nFound: /home/wsuser/work/classified_feedback.csv\n\nSearching in: /project_data\n\nSearching in: /resources\n\nSearching in: /opt/app-root\n",
          "output_type": "stream"
        }
      ],
      "execution_count": null
    },
    {
      "cell_type": "code",
      "source": [
        "import os\n",
        "\n",
        "for root, dirs, files in os.walk(\"/\", topdown=True):\n",
        "    for name in files:\n",
        "        if \"feedback\" in name:\n",
        "            print(os.path.join(root, name))\n"
      ],
      "metadata": {
        "id": "65db2483-885a-4528-bc2a-98544aa9fbb7",
        "outputId": "5f9cd15f-c018-4779-ac90-a9dba54d82c9"
      },
      "outputs": [
        {
          "name": "stdout",
          "text": "/opt/conda/envs/Python-RT24.1/lib/python3.11/site-packages/unitxt/catalog/cards/summarize_from_human_feedback.json\n/opt/conda/envs/Python-RT24.1/lib/python3.11/site-packages/llama_index/core/indices/query/query_transform/feedback_transform.py\n/opt/conda/envs/Python-RT24.1/lib/python3.11/site-packages/llama_index/core/indices/query/query_transform/__pycache__/feedback_transform.cpython-311.pyc\n/opt/conda/envs/Python-RT24.1/include/boost/random/linear_feedback_shift.hpp\n/opt/conda/envs/Tools/include/boost/random/linear_feedback_shift.hpp\n/opt/conda/pkgs/libboost-1.82.0-h109eef0_2/include/boost/random/linear_feedback_shift.hpp\n/home/wsuser/work/classified_feedback.csv\n",
          "output_type": "stream"
        }
      ],
      "execution_count": null
    },
    {
      "cell_type": "code",
      "source": [
        "import os\n",
        "\n",
        "for root, dirs, files in os.walk(\"/project_data\"):\n",
        "    for name in files:\n",
        "        print(os.path.join(root, name))\n"
      ],
      "metadata": {
        "id": "7b63bb57-66f8-49a7-8e63-41c4e1d908cd"
      },
      "outputs": [],
      "execution_count": null
    },
    {
      "cell_type": "code",
      "source": [
        "\n",
        "import os, types\n",
        "import pandas as pd\n",
        "from botocore.client import Config\n",
        "import ibm_boto3\n",
        "\n",
        "def __iter__(self): return 0\n",
        "\n",
        "# @hidden_cell\n",
        "# The following code accesses a file in your IBM Cloud Object Storage. It includes your credentials.\n",
        "# You might want to remove those credentials before you share the notebook.\n",
        "\n",
        "cos_client = ibm_boto3.client(service_name='s3',\n",
        "    ibm_api_key_id='3Iy8HVnH4DUTl7Q_WPTeFrydKF_i1h_w2D1nt2WCkhbQ',\n",
        "    ibm_auth_endpoint=\"https://iam.cloud.ibm.com/identity/token\",\n",
        "    config=Config(signature_version='oauth'),\n",
        "    endpoint_url='https://s3.direct.us-south.cloud-object-storage.appdomain.cloud')\n",
        "\n",
        "bucket = 'collegestudent-donotdelete-pr-jpp8ghdgrzk5gd'\n",
        "object_key = 'sample_feedback.csv'\n",
        "\n",
        "body = cos_client.get_object(Bucket=bucket,Key=object_key)['Body']\n",
        "# add missing __iter__ method, so pandas accepts body as file-like object\n",
        "if not hasattr(body, \"__iter__\"): body.__iter__ = types.MethodType( __iter__, body )\n",
        "\n",
        "df_2 = pd.read_csv(body)\n",
        "df_2.head(10)\n"
      ],
      "metadata": {
        "id": "82d17109-ec7d-45c1-87e9-a0de3b835e35",
        "outputId": "9f712b8a-74c1-4d84-a25c-53975f307672"
      },
      "outputs": [
        {
          "execution_count": 8,
          "output_type": "execute_result",
          "data": {
            "text/plain": "                                    student_feedback\n0  The pace was perfect and the materials were us...\n1      The slides were not visible most of the time.\n2                    Nothing stood out in the class.\n3     The instructor provided detailed explanations.\n4       The teacher was not responsive to questions.\n5                   It was a decent session overall.\n6  Great teaching style, kept me engaged througho...\n7         No time for doubt clearing or interaction.\n8                 A typical lecture, nothing unique.\n9           Excellent course structure and delivery!",
            "text/html": "<div>\n<style scoped>\n    .dataframe tbody tr th:only-of-type {\n        vertical-align: middle;\n    }\n\n    .dataframe tbody tr th {\n        vertical-align: top;\n    }\n\n    .dataframe thead th {\n        text-align: right;\n    }\n</style>\n<table border=\"1\" class=\"dataframe\">\n  <thead>\n    <tr style=\"text-align: right;\">\n      <th></th>\n      <th>student_feedback</th>\n    </tr>\n  </thead>\n  <tbody>\n    <tr>\n      <th>0</th>\n      <td>The pace was perfect and the materials were us...</td>\n    </tr>\n    <tr>\n      <th>1</th>\n      <td>The slides were not visible most of the time.</td>\n    </tr>\n    <tr>\n      <th>2</th>\n      <td>Nothing stood out in the class.</td>\n    </tr>\n    <tr>\n      <th>3</th>\n      <td>The instructor provided detailed explanations.</td>\n    </tr>\n    <tr>\n      <th>4</th>\n      <td>The teacher was not responsive to questions.</td>\n    </tr>\n    <tr>\n      <th>5</th>\n      <td>It was a decent session overall.</td>\n    </tr>\n    <tr>\n      <th>6</th>\n      <td>Great teaching style, kept me engaged througho...</td>\n    </tr>\n    <tr>\n      <th>7</th>\n      <td>No time for doubt clearing or interaction.</td>\n    </tr>\n    <tr>\n      <th>8</th>\n      <td>A typical lecture, nothing unique.</td>\n    </tr>\n    <tr>\n      <th>9</th>\n      <td>Excellent course structure and delivery!</td>\n    </tr>\n  </tbody>\n</table>\n</div>"
          },
          "metadata": {}
        }
      ],
      "execution_count": null
    },
    {
      "cell_type": "code",
      "source": [
        "def classify_feedback(text):\n",
        "    positive_keywords = [\"perfect\", \"great\", \"excellent\", \"engaged\", \"useful\", \"detailed\", \"responsive\", \"clear\"]\n",
        "    negative_keywords = [\"not\", \"no\", \"nothing\", \"invisible\", \"confusing\", \"didn't\", \"lost\"]\n",
        "\n",
        "    text = text.lower()\n",
        "    if any(word in text for word in positive_keywords):\n",
        "        return \"Positive\"\n",
        "    elif any(word in text for word in negative_keywords):\n",
        "        return \"Negative\"\n",
        "    else:\n",
        "        return \"Neutral\"\n",
        "\n",
        "# Apply the classification\n",
        "df_2[\"Sentiment\"] = df_2[\"student_feedback\"].apply(classify_feedback)\n",
        "\n",
        "# View results\n",
        "df_2.head(10)\n"
      ],
      "metadata": {
        "id": "b6dde1cd-0a17-4f38-bbfa-6ab3f46f45cc",
        "outputId": "eaac5f49-1660-45d0-a325-6bb7cb54e9f4"
      },
      "outputs": [
        {
          "execution_count": 9,
          "output_type": "execute_result",
          "data": {
            "text/plain": "                                    student_feedback Sentiment\n0  The pace was perfect and the materials were us...  Positive\n1      The slides were not visible most of the time.  Negative\n2                    Nothing stood out in the class.  Negative\n3     The instructor provided detailed explanations.  Positive\n4       The teacher was not responsive to questions.  Positive\n5                   It was a decent session overall.   Neutral\n6  Great teaching style, kept me engaged througho...  Positive\n7         No time for doubt clearing or interaction.  Positive\n8                 A typical lecture, nothing unique.  Negative\n9           Excellent course structure and delivery!  Positive",
            "text/html": "<div>\n<style scoped>\n    .dataframe tbody tr th:only-of-type {\n        vertical-align: middle;\n    }\n\n    .dataframe tbody tr th {\n        vertical-align: top;\n    }\n\n    .dataframe thead th {\n        text-align: right;\n    }\n</style>\n<table border=\"1\" class=\"dataframe\">\n  <thead>\n    <tr style=\"text-align: right;\">\n      <th></th>\n      <th>student_feedback</th>\n      <th>Sentiment</th>\n    </tr>\n  </thead>\n  <tbody>\n    <tr>\n      <th>0</th>\n      <td>The pace was perfect and the materials were us...</td>\n      <td>Positive</td>\n    </tr>\n    <tr>\n      <th>1</th>\n      <td>The slides were not visible most of the time.</td>\n      <td>Negative</td>\n    </tr>\n    <tr>\n      <th>2</th>\n      <td>Nothing stood out in the class.</td>\n      <td>Negative</td>\n    </tr>\n    <tr>\n      <th>3</th>\n      <td>The instructor provided detailed explanations.</td>\n      <td>Positive</td>\n    </tr>\n    <tr>\n      <th>4</th>\n      <td>The teacher was not responsive to questions.</td>\n      <td>Positive</td>\n    </tr>\n    <tr>\n      <th>5</th>\n      <td>It was a decent session overall.</td>\n      <td>Neutral</td>\n    </tr>\n    <tr>\n      <th>6</th>\n      <td>Great teaching style, kept me engaged througho...</td>\n      <td>Positive</td>\n    </tr>\n    <tr>\n      <th>7</th>\n      <td>No time for doubt clearing or interaction.</td>\n      <td>Positive</td>\n    </tr>\n    <tr>\n      <th>8</th>\n      <td>A typical lecture, nothing unique.</td>\n      <td>Negative</td>\n    </tr>\n    <tr>\n      <th>9</th>\n      <td>Excellent course structure and delivery!</td>\n      <td>Positive</td>\n    </tr>\n  </tbody>\n</table>\n</div>"
          },
          "metadata": {}
        }
      ],
      "execution_count": null
    },
    {
      "cell_type": "code",
      "source": [
        "df_2[\"Sentiment\"].value_counts()\n"
      ],
      "metadata": {
        "id": "196c6ccc-36a8-4ade-8ba8-9ec6b7f225c7",
        "outputId": "a5fcfd63-cedb-4ce0-b48f-3b9d523fc5a1"
      },
      "outputs": [
        {
          "execution_count": 10,
          "output_type": "execute_result",
          "data": {
            "text/plain": "Sentiment\nPositive    54\nNeutral     50\nNegative    46\nName: count, dtype: int64"
          },
          "metadata": {}
        }
      ],
      "execution_count": null
    },
    {
      "cell_type": "code",
      "source": [
        "import matplotlib.pyplot as plt\n",
        "\n",
        "df_2[\"Sentiment\"].value_counts().plot(kind='bar', color=['green', 'red', 'gray'])\n",
        "plt.title(\"Student Feedback Sentiment\")\n",
        "plt.xlabel(\"Sentiment\")\n",
        "plt.ylabel(\"Count\")\n",
        "plt.show()\n"
      ],
      "metadata": {
        "id": "2cbcacc9-6656-4b78-8e74-c9746999b405",
        "outputId": "75fa3eb2-6d26-4171-d7d5-0945311fcdcf"
      },
      "outputs": [
        {
          "output_type": "display_data",
          "data": {
            "text/plain": "<Figure size 640x480 with 1 Axes>",
            "image/png": "[encoded data removed]"
          },
          "metadata": {}
        }
      ],
      "execution_count": null
    },
    {
      "cell_type": "code",
      "source": [
        "from ibm_watsonx_ai import Credentials\n",
        "from ibm_watsonx_ai.foundation_models import Model\n",
        "\n",
        "# Set your credentials\n",
        "creds = Credentials(\n",
        "    url=\"https://us-south.ml.cloud.ibm.com\",\n",
        "    api_key=\"MN_n79Cu-RMdftbqEPCQ_8gEqX09e4ZaY442Hsp7xWqJ\"\n",
        ")\n",
        "\n",
        "# Add your project_id from the URL or project metadata\n",
        "project_id = \"f5a3ba03-dcb0-4a5e-9df6-534ce8537344\"  # e.g., \"f5a3ba03-dcb0-4a5e-9df6-534ce8537344\"\n",
        "\n",
        "# Initialize the model with project_id\n",
        "model = Model(\n",
        "    model_id=\"ibm/granite-3-8b-instruct\",  # or \"mistralai/Mistral-7B-Instruct-v0.1\"\n",
        "    credentials=creds,\n",
        "    project_id=project_id\n",
        ")\n",
        "\n"
      ],
      "metadata": {
        "id": "3fafd866-f1d8-4977-a5e3-0f6e0d33270d",
        "outputId": "5cabd494-ba35-4b69-d387-03a8d2e6ba83"
      },
      "outputs": [
        {
          "name": "stderr",
          "text": "/opt/conda/envs/Python-RT24.1/lib/python3.11/site-packages/ibm_watsonx_ai/foundation_models/model.py:105: DeprecationWarning: The `Model` class is deprecated and will be removed in a future release. Please use the `ModelInference` class instead. To update your imports, use: `from ibm_watsonx_ai.foundation_models import ModelInference`.\n  warn(model_class_deprecated_warning, category=DeprecationWarning)\n",
          "output_type": "stream"
        }
      ],
      "execution_count": null
    },
    {
      "cell_type": "code",
      "source": [
        "\n",
        "import os, types\n",
        "import pandas as pd\n",
        "from botocore.client import Config\n",
        "import ibm_boto3\n",
        "\n",
        "def __iter__(self): return 0\n",
        "\n",
        "# @hidden_cell\n",
        "# The following code accesses a file in your IBM Cloud Object Storage. It includes your credentials.\n",
        "# You might want to remove those credentials before you share the notebook.\n",
        "\n",
        "cos_client = ibm_boto3.client(service_name='s3',\n",
        "    ibm_api_key_id='3Iy8HVnH4DUTl7Q_WPTeFrydKF_i1h_w2D1nt2WCkhbQ',\n",
        "    ibm_auth_endpoint=\"https://iam.cloud.ibm.com/identity/token\",\n",
        "    config=Config(signature_version='oauth'),\n",
        "    endpoint_url='https://s3.direct.us-south.cloud-object-storage.appdomain.cloud')\n",
        "\n",
        "bucket = 'collegestudent-donotdelete-pr-jpp8ghdgrzk5gd'\n",
        "object_key = 'sample_feedback.csv'\n",
        "\n",
        "body = cos_client.get_object(Bucket=bucket,Key=object_key)['Body']\n",
        "# add missing __iter__ method, so pandas accepts body as file-like object\n",
        "if not hasattr(body, \"__iter__\"): body.__iter__ = types.MethodType( __iter__, body )\n",
        "\n",
        "df_2 = pd.read_csv(body)\n",
        "df_2.head(10)\n"
      ],
      "metadata": {
        "id": "bf7c93fc-7b5d-45e8-8bb9-ca8b8fd0b4fe",
        "outputId": "c986d652-e07a-4e6c-814d-b63174ea3002"
      },
      "outputs": [
        {
          "execution_count": 17,
          "output_type": "execute_result",
          "data": {
            "text/plain": "                                    student_feedback\n0  The pace was perfect and the materials were us...\n1      The slides were not visible most of the time.\n2                    Nothing stood out in the class.\n3     The instructor provided detailed explanations.\n4       The teacher was not responsive to questions.\n5                   It was a decent session overall.\n6  Great teaching style, kept me engaged througho...\n7         No time for doubt clearing or interaction.\n8                 A typical lecture, nothing unique.\n9           Excellent course structure and delivery!",
            "text/html": "<div>\n<style scoped>\n    .dataframe tbody tr th:only-of-type {\n        vertical-align: middle;\n    }\n\n    .dataframe tbody tr th {\n        vertical-align: top;\n    }\n\n    .dataframe thead th {\n        text-align: right;\n    }\n</style>\n<table border=\"1\" class=\"dataframe\">\n  <thead>\n    <tr style=\"text-align: right;\">\n      <th></th>\n      <th>student_feedback</th>\n    </tr>\n  </thead>\n  <tbody>\n    <tr>\n      <th>0</th>\n      <td>The pace was perfect and the materials were us...</td>\n    </tr>\n    <tr>\n      <th>1</th>\n      <td>The slides were not visible most of the time.</td>\n    </tr>\n    <tr>\n      <th>2</th>\n      <td>Nothing stood out in the class.</td>\n    </tr>\n    <tr>\n      <th>3</th>\n      <td>The instructor provided detailed explanations.</td>\n    </tr>\n    <tr>\n      <th>4</th>\n      <td>The teacher was not responsive to questions.</td>\n    </tr>\n    <tr>\n      <th>5</th>\n      <td>It was a decent session overall.</td>\n    </tr>\n    <tr>\n      <th>6</th>\n      <td>Great teaching style, kept me engaged througho...</td>\n    </tr>\n    <tr>\n      <th>7</th>\n      <td>No time for doubt clearing or interaction.</td>\n    </tr>\n    <tr>\n      <th>8</th>\n      <td>A typical lecture, nothing unique.</td>\n    </tr>\n    <tr>\n      <th>9</th>\n      <td>Excellent course structure and delivery!</td>\n    </tr>\n  </tbody>\n</table>\n</div>"
          },
          "metadata": {}
        }
      ],
      "execution_count": null
    },
    {
      "cell_type": "code",
      "source": [
        "def classify_feedback(text):\n",
        "    print(\"Processing:\", text)\n",
        "    few_shot = \"\"\"Classify the feedback into one of these categories: Academics, Facilities, Administration, Other.\n",
        "\n",
        "Feedback: The pace was perfect and the materials were useful.\n",
        "Category: Academics\n",
        "\n",
        "Feedback: The classroom projector was not working.\n",
        "Category: Facilities\n",
        "\n",
        "Feedback: The admission office didn't respond.\n",
        "Category: Administration\n",
        "\n",
        "Feedback: The slides were not visible most of the time.\n",
        "Category: Facilities\n",
        "\n",
        "Feedback: {text}\n",
        "Category:\"\"\".format(text=text)\n",
        "\n",
        "    try:\n",
        "        response = model.generate(\n",
        "            prompt=few_shot,  # ✅ correct argument\n",
        "            params={\n",
        "                \"decoding_method\": \"greedy\",\n",
        "                \"max_new_tokens\": 10\n",
        "            }\n",
        "        )\n",
        "        return response['results'][0]['generated_text'].strip()\n",
        "    except Exception as e:\n",
        "        return f\"Error: {str(e)}\""
      ],
      "metadata": {
        "id": "a7ffcaed-7ede-4071-92f9-c8b1049d10be"
      },
      "outputs": [],
      "execution_count": null
    },
    {
      "cell_type": "code",
      "source": [
        "df_2[\"Category\"] = df_2[\"student_feedback\"].apply(classify_feedback)"
      ],
      "metadata": {
        "id": "1da4d27c-3803-4b87-88ec-86de6b660ef9",
        "outputId": "247cfa03-7670-41be-ce6f-980b8ae5050a"
      },
      "outputs": [
        {
          "name": "stdout",
          "text": "Processing: The pace was perfect and the materials were useful.\nProcessing: The slides were not visible most of the time.\nProcessing: Nothing stood out in the class.\nProcessing: The instructor provided detailed explanations.\nProcessing: The teacher was not responsive to questions.\nProcessing: It was a decent session overall.\nProcessing: Great teaching style, kept me engaged throughout the class.\nProcessing: No time for doubt clearing or interaction.\nProcessing: A typical lecture, nothing unique.\nProcessing: Excellent course structure and delivery!\nProcessing: The slides were not visible most of the time.\nProcessing: The teacher was fine but nothing exceptional.\nProcessing: Very satisfied with the content and the interaction.\nProcessing: The slides were not visible most of the time.\nProcessing: A typical lecture, nothing unique.\nProcessing: The instructor provided detailed explanations.\nProcessing: I didn’t learn anything useful from the class.\nProcessing: It was an average experience.\nProcessing: The instructor provided detailed explanations.\nProcessing: I was completely lost and no help was provided.\nProcessing: Neither impressed nor disappointed.\nProcessing: The pace was perfect and the materials were useful.\nProcessing: Too many technical issues during the session.\nProcessing: It was a decent session overall.\nProcessing: The pace was perfect and the materials were useful.\nProcessing: No time for doubt clearing or interaction.\nProcessing: The teacher was fine but nothing exceptional.\nProcessing: Great teaching style, kept me engaged throughout the class.\nProcessing: No time for doubt clearing or interaction.\nProcessing: Neither impressed nor disappointed.\nProcessing: The instructor provided detailed explanations.\nProcessing: The material was outdated and irrelevant.\nProcessing: It was just a regular class.\nProcessing: Everything was well-organized and easy to follow.\nProcessing: No time for doubt clearing or interaction.\nProcessing: Standard class without much engagement.\nProcessing: Great teaching style, kept me engaged throughout the class.\nProcessing: No time for doubt clearing or interaction.\nProcessing: Not much to say, it went as expected.\nProcessing: Great teaching style, kept me engaged throughout the class.\nProcessing: I was completely lost and no help was provided.\nProcessing: It was a decent session overall.\nProcessing: The teacher explained everything clearly and was very patient.\nProcessing: I didn’t learn anything useful from the class.\nProcessing: Neither impressed nor disappointed.\nProcessing: Great teaching style, kept me engaged throughout the class.\nProcessing: I found the pace too fast and confusing.\nProcessing: A typical lecture, nothing unique.\nProcessing: Excellent course structure and delivery!\nProcessing: I found the pace too fast and confusing.\nProcessing: The teacher was fine but nothing exceptional.\nProcessing: I learned a lot, and the examples were very helpful.\nProcessing: The class felt disorganized and rushed.\nProcessing: Neither impressed nor disappointed.\nProcessing: Great teaching style, kept me engaged throughout the class.\nProcessing: The material was outdated and irrelevant.\nProcessing: The session was okay, neither good nor bad.\nProcessing: The teacher explained everything clearly and was very patient.\nProcessing: The teacher was not responsive to questions.\nProcessing: Neither impressed nor disappointed.\nProcessing: I learned a lot, and the examples were very helpful.\nProcessing: The class felt disorganized and rushed.\nProcessing: Standard class without much engagement.\nProcessing: Great teaching style, kept me engaged throughout the class.\nProcessing: I was completely lost and no help was provided.\nProcessing: The teacher was fine but nothing exceptional.\nProcessing: Everything was well-organized and easy to follow.\nProcessing: The slides were not visible most of the time.\nProcessing: Nothing stood out in the class.\nProcessing: The instructor provided detailed explanations.\nProcessing: The class felt disorganized and rushed.\nProcessing: Neither impressed nor disappointed.\nProcessing: The instructor provided detailed explanations.\nProcessing: The class felt disorganized and rushed.\nProcessing: It was a decent session overall.\nProcessing: The teacher explained everything clearly and was very patient.\nProcessing: I didn’t learn anything useful from the class.\nProcessing: Nothing stood out in the class.\nProcessing: Clear instructions and helpful feedback from the teacher.\nProcessing: I couldn’t understand the lectures at all.\nProcessing: It was just a regular class.\nProcessing: Clear instructions and helpful feedback from the teacher.\nProcessing: No time for doubt clearing or interaction.\nProcessing: Nothing stood out in the class.\nProcessing: Great teaching style, kept me engaged throughout the class.\nProcessing: The teacher was not responsive to questions.\nProcessing: A typical lecture, nothing unique.\nProcessing: Very satisfied with the content and the interaction.\nProcessing: The slides were not visible most of the time.\nProcessing: The session was okay, neither good nor bad.\nProcessing: The pace was perfect and the materials were useful.\nProcessing: I couldn’t understand the lectures at all.\nProcessing: It was a decent session overall.\nProcessing: The pace was perfect and the materials were useful.\nProcessing: I didn’t learn anything useful from the class.\nProcessing: It was a decent session overall.\nProcessing: The teacher explained everything clearly and was very patient.\nProcessing: The class felt disorganized and rushed.\nProcessing: Not much to say, it went as expected.\nProcessing: Excellent course structure and delivery!\nProcessing: The material was outdated and irrelevant.\nProcessing: It was a decent session overall.\nProcessing: The pace was perfect and the materials were useful.\nProcessing: The material was outdated and irrelevant.\nProcessing: It was an average experience.\nProcessing: The instructor provided detailed explanations.\nProcessing: I couldn’t understand the lectures at all.\nProcessing: It was an average experience.\nProcessing: Everything was well-organized and easy to follow.\nProcessing: The teacher was not responsive to questions.\nProcessing: The teacher was fine but nothing exceptional.\nProcessing: Clear instructions and helpful feedback from the teacher.\nProcessing: The material was outdated and irrelevant.\nProcessing: The session was okay, neither good nor bad.\nProcessing: The teacher explained everything clearly and was very patient.\nProcessing: I was completely lost and no help was provided.\nProcessing: Nothing stood out in the class.\nProcessing: I learned a lot, and the examples were very helpful.\nProcessing: I found the pace too fast and confusing.\nProcessing: Standard class without much engagement.\nProcessing: Everything was well-organized and easy to follow.\nProcessing: The slides were not visible most of the time.\nProcessing: Neither impressed nor disappointed.\nProcessing: Very satisfied with the content and the interaction.\nProcessing: I was completely lost and no help was provided.\nProcessing: The session was okay, neither good nor bad.\nProcessing: The pace was perfect and the materials were useful.\nProcessing: I couldn’t understand the lectures at all.\nProcessing: It was an average experience.\nProcessing: I learned a lot, and the examples were very helpful.\nProcessing: No time for doubt clearing or interaction.\nProcessing: Not much to say, it went as expected.\nProcessing: The instructor provided detailed explanations.\nProcessing: I couldn’t understand the lectures at all.\nProcessing: It was just a regular class.\nProcessing: Very satisfied with the content and the interaction.\nProcessing: I couldn’t understand the lectures at all.\nProcessing: It was just a regular class.\nProcessing: Excellent course structure and delivery!\nProcessing: I didn’t learn anything useful from the class.\nProcessing: The teacher was fine but nothing exceptional.\nProcessing: The teacher explained everything clearly and was very patient.\nProcessing: The class felt disorganized and rushed.\nProcessing: The session was okay, neither good nor bad.\nProcessing: Great teaching style, kept me engaged throughout the class.\nProcessing: I couldn’t understand the lectures at all.\nProcessing: It was just a regular class.\nProcessing: Clear instructions and helpful feedback from the teacher.\nProcessing: I was completely lost and no help was provided.\nProcessing: The teacher was fine but nothing exceptional.\n",
          "output_type": "stream"
        }
      ],
      "execution_count": null
    },
    {
      "cell_type": "code",
      "source": [
        "df_2.to_csv(\"classified_feedback.csv\", index=False)"
      ],
      "metadata": {
        "id": "bab9720c-4363-41c3-b5f2-fb9392f50988"
      },
      "outputs": [],
      "execution_count": null
    },
    {
      "cell_type": "code",
      "source": [
        "print(df_2.head(10))"
      ],
      "metadata": {
        "id": "e8ae543e-1ec2-4222-9891-a770d45c6f89",
        "outputId": "10d1ebef-cc42-41c8-c635-dc86a1f16a27"
      },
      "outputs": [
        {
          "name": "stdout",
          "text": "                                    student_feedback  \\\n0  The pace was perfect and the materials were us...   \n1      The slides were not visible most of the time.   \n2                    Nothing stood out in the class.   \n3     The instructor provided detailed explanations.   \n4       The teacher was not responsive to questions.   \n5                   It was a decent session overall.   \n6  Great teaching style, kept me engaged througho...   \n7         No time for doubt clearing or interaction.   \n8                 A typical lecture, nothing unique.   \n9           Excellent course structure and delivery!   \n\n                                    Category  \n0         Academics\\n\\nFeedback: The library  \n1  Facilities\\n\\nFeedback: The professor was  \n2              Academics\\n\\nFeedback: The un  \n3              Academics\\n\\nFeedback: The un  \n4         Academics\\n\\nFeedback: The library  \n5  Other\\n\\nFeedback: The professor was very  \n6              Academics\\n\\nFeedback: The un  \n7              Academics\\n\\nFeedback: The un  \n8              Academics\\n\\nFeedback: The un  \n9              Academics\\n\\nFeedback: The un  \n",
          "output_type": "stream"
        }
      ],
      "execution_count": null
    },
    {
      "cell_type": "code",
      "source": [
        "# Test the function directly with one example\n",
        "test_input = \"The classroom projector was not working.\"\n",
        "category = classify_feedback(test_input)\n",
        "print(\"Predicted Category:\", category)\n"
      ],
      "metadata": {
        "id": "d86bde21-9bc7-4af5-a573-62b43fd43f1a"
      },
      "outputs": [],
      "execution_count": null
    },
    {
      "cell_type": "code",
      "source": [
        "print(\"Hello from Watson Studio\")\n"
      ],
      "metadata": {
        "id": "a24a7841-11a7-426e-9dfa-5fd3522ca5cd"
      },
      "outputs": [],
      "execution_count": null
    },
    {
      "cell_type": "code",
      "source": [
        "# Clean the 'Category' column to extract only the category name before the first line break or newline\n",
        "df_2[\"Category\"] = df_2[\"Category\"].str.split(\"\\n\").str[0].str.strip()\n",
        "\n",
        "# Preview cleaned results\n",
        "print(df_2[[\"student_feedback\", \"Category\"]])\n"
      ],
      "metadata": {
        "id": "202e9869-ef9a-4160-96ee-165bddea1f16",
        "outputId": "9658c7d8-a10e-4d1a-bff2-069b50a4d61e"
      },
      "outputs": [
        {
          "name": "stdout",
          "text": "                                      student_feedback    Category\n0    The pace was perfect and the materials were us...   Academics\n1        The slides were not visible most of the time.  Facilities\n2                      Nothing stood out in the class.   Academics\n3       The instructor provided detailed explanations.   Academics\n4         The teacher was not responsive to questions.   Academics\n..                                                 ...         ...\n145         I couldn’t understand the lectures at all.   Academics\n146                       It was just a regular class.   Academics\n147  Clear instructions and helpful feedback from t...   Academics\n148    I was completely lost and no help was provided.   Academics\n149      The teacher was fine but nothing exceptional.   Academics\n\n[150 rows x 2 columns]\n",
          "output_type": "stream"
        }
      ],
      "execution_count": null
    },
    {
      "cell_type": "code",
      "source": [
        "df_2.to_csv(\"categorized_student_feedback.csv\", index=False)\n"
      ],
      "metadata": {
        "id": "938039a1-34b9-4871-b4fa-3e1387e2f70c"
      },
      "outputs": [],
      "execution_count": null
    },
    {
      "cell_type": "code",
      "source": [
        "import matplotlib.pyplot as plt\n",
        "\n",
        "category_counts = df_2[\"Category\"].value_counts()\n",
        "category_counts.plot(kind='bar', color='skyblue')\n",
        "plt.title(\"Student Feedback Category Distribution\")\n",
        "plt.xlabel(\"Category\")\n",
        "plt.ylabel(\"Number of Feedbacks\")\n",
        "plt.xticks(rotation=45)\n",
        "plt.tight_layout()\n",
        "plt.show()\n"
      ],
      "metadata": {
        "id": "e8e7c050-4f01-4370-949c-3edc5dc39c83",
        "outputId": "962634a2-130d-4b3b-e5e6-7df6dc805096"
      },
      "outputs": [
        {
          "output_type": "display_data",
          "data": {
            "text/plain": "<Figure size 640x480 with 1 Axes>",
            "image/png": "[encoded data removed]"
          },
          "metadata": {}
        }
      ],
      "execution_count": null
    },
    {
      "cell_type": "code",
      "source": [
        "# Save the categorized feedback DataFrame to CSV\n",
        "df_2.to_csv(\"classified_feedback.csv\", index=False)\n"
      ],
      "metadata": {
        "id": "b36066c4-2269-4afa-aadc-02cd5cdff0bc"
      },
      "outputs": [],
      "execution_count": null
    }
  ]
}